{
  "nbformat": 4,
  "nbformat_minor": 0,
  "metadata": {
    "colab": {
      "provenance": []
    },
    "kernelspec": {
      "name": "python3",
      "display_name": "Python 3"
    },
    "language_info": {
      "name": "python"
    }
  },
  "cells": [
    {
      "cell_type": "markdown",
      "source": [
        "#Theory Questions:"
      ],
      "metadata": {
        "id": "a1E5ZhjsL2wT"
      }
    },
    {
      "cell_type": "markdown",
      "source": [
        "1.  What is the difference between a function and a method in Python?"
      ],
      "metadata": {
        "id": "zJgsQbOcLzbX"
      }
    },
    {
      "cell_type": "markdown",
      "source": [
        "Ans. Function: A block of code that performs a task. It can be used anywhere.\n",
        "\n",
        "Method: A function that belongs to an object (like a list or string).\n",
        "\n",
        "Example:"
      ],
      "metadata": {
        "id": "EGCVC-MLMNcl"
      }
    },
    {
      "cell_type": "code",
      "source": [
        "# Function\n",
        "def greet():\n",
        "    print(\"Hello!\")\n",
        "\n",
        "greet()\n",
        "\n",
        "# Method\n",
        "text = \"hello\"\n",
        "print(text.upper())  # upper() is a method of string object\n"
      ],
      "metadata": {
        "colab": {
          "base_uri": "https://localhost:8080/"
        },
        "id": "m97I9aTIM-7P",
        "outputId": "d6917c64-1655-4508-c049-f0536226715f"
      },
      "execution_count": 1,
      "outputs": [
        {
          "output_type": "stream",
          "name": "stdout",
          "text": [
            "Hello!\n",
            "HELLO\n"
          ]
        }
      ]
    },
    {
      "cell_type": "markdown",
      "source": [
        "2. . Explain the concept of function arguments and parameters in Python.\n",
        "\n"
      ],
      "metadata": {
        "id": "tsL2rXVlNMka"
      }
    },
    {
      "cell_type": "markdown",
      "source": [
        "Ans. Parameter: Variable defined inside the function (like a placeholder).\n",
        "\n",
        "Argument: Actual value you pass when calling the function.\n",
        "\n",
        "Example:"
      ],
      "metadata": {
        "id": "6z1iZaxmNSt6"
      }
    },
    {
      "cell_type": "code",
      "source": [
        "def greet(name):  # 'name' is parameter\n",
        "    print(\"Hello\", name)\n",
        "\n",
        "greet(\"Rehma\")  # \"Rehma\" is argument\n"
      ],
      "metadata": {
        "colab": {
          "base_uri": "https://localhost:8080/"
        },
        "id": "F0nTwEEeNgbV",
        "outputId": "3309977f-4ebf-4140-8607-459dc393b33a"
      },
      "execution_count": 2,
      "outputs": [
        {
          "output_type": "stream",
          "name": "stdout",
          "text": [
            "Hello Rehma\n"
          ]
        }
      ]
    },
    {
      "cell_type": "markdown",
      "source": [
        "3.  What are the different ways to define and call a function in Python?"
      ],
      "metadata": {
        "id": "YQ5ugTIeNjT5"
      }
    },
    {
      "cell_type": "markdown",
      "source": [
        "Ans. Defining: Use def keyword.\n",
        "\n",
        "Calling: Write function name with ().\n",
        "\n",
        "Example:"
      ],
      "metadata": {
        "id": "1QMqhXLXNtQc"
      }
    },
    {
      "cell_type": "code",
      "source": [
        "def add(a, b):  # define\n",
        "    return a + b\n",
        "\n",
        "print(add(3, 5))  # call\n"
      ],
      "metadata": {
        "colab": {
          "base_uri": "https://localhost:8080/"
        },
        "id": "C4IVsAgjN2g2",
        "outputId": "244ac4ea-6946-4b55-b3cd-26ebd49a175c"
      },
      "execution_count": 3,
      "outputs": [
        {
          "output_type": "stream",
          "name": "stdout",
          "text": [
            "8\n"
          ]
        }
      ]
    },
    {
      "cell_type": "markdown",
      "source": [
        "4. . What is the purpose of the `return` statement in a Python function?\n",
        "\n"
      ],
      "metadata": {
        "id": "pA5ucOblN5oS"
      }
    },
    {
      "cell_type": "markdown",
      "source": [
        "Ans. Purpose of return statement\n",
        "\n",
        "It sends back a value from a function to where it was called.\n",
        "\n",
        "Example:"
      ],
      "metadata": {
        "id": "KUp84lsXN_HD"
      }
    },
    {
      "cell_type": "code",
      "source": [
        "def square(x):\n",
        "    return x * x\n",
        "\n",
        "result = square(4)\n",
        "print(result)  # 16\n"
      ],
      "metadata": {
        "colab": {
          "base_uri": "https://localhost:8080/"
        },
        "id": "qbK4jmDMOFKj",
        "outputId": "aa154485-1a89-4937-eabb-6da3a32c45a8"
      },
      "execution_count": 4,
      "outputs": [
        {
          "output_type": "stream",
          "name": "stdout",
          "text": [
            "16\n"
          ]
        }
      ]
    },
    {
      "cell_type": "markdown",
      "source": [
        "5. What are iterators in Python and how do they differ from iterables?"
      ],
      "metadata": {
        "id": "T713NQxvOI8E"
      }
    },
    {
      "cell_type": "markdown",
      "source": [
        "Ans. Iterable: An object you can loop through (like list, tuple).\n",
        "\n",
        "Iterator: Gives one value at a time using next().\n",
        "\n",
        "Example:"
      ],
      "metadata": {
        "id": "pl_Fqh4JOOyr"
      }
    },
    {
      "cell_type": "code",
      "source": [
        "nums = [1, 2, 3]  # iterable\n",
        "it = iter(nums)   # iterator\n",
        "\n",
        "print(next(it))  # 1\n",
        "print(next(it))  # 2\n"
      ],
      "metadata": {
        "colab": {
          "base_uri": "https://localhost:8080/"
        },
        "id": "atxXm_-vOkqf",
        "outputId": "2e77baed-f7fa-4fdd-b586-280bbcd79bd8"
      },
      "execution_count": 5,
      "outputs": [
        {
          "output_type": "stream",
          "name": "stdout",
          "text": [
            "1\n",
            "2\n"
          ]
        }
      ]
    },
    {
      "cell_type": "markdown",
      "source": [
        "6.  Explain the concept of generators in Python and how they are defined."
      ],
      "metadata": {
        "id": "zZsHzZewOnhR"
      }
    },
    {
      "cell_type": "markdown",
      "source": [
        "Ans. Generators in Python\n",
        "\n",
        "Special type of function that gives values one by one using yield.\n",
        "\n",
        "Example:"
      ],
      "metadata": {
        "id": "uB4mz0NHOq2n"
      }
    },
    {
      "cell_type": "code",
      "source": [
        "def count_up_to(n):\n",
        "    i = 1\n",
        "    while i <= n:\n",
        "        yield i\n",
        "        i += 1\n",
        "\n",
        "for num in count_up_to(3):\n",
        "    print(num)\n"
      ],
      "metadata": {
        "colab": {
          "base_uri": "https://localhost:8080/"
        },
        "id": "ulVS3h6dOxdJ",
        "outputId": "203ef0e6-58db-4b42-c4a5-9fec87907fe2"
      },
      "execution_count": 6,
      "outputs": [
        {
          "output_type": "stream",
          "name": "stdout",
          "text": [
            "1\n",
            "2\n",
            "3\n"
          ]
        }
      ]
    },
    {
      "cell_type": "markdown",
      "source": [
        "7.  What are the advantages of using generators over regular functions?\n",
        "\n"
      ],
      "metadata": {
        "id": "XU8teFYPO4DS"
      }
    },
    {
      "cell_type": "markdown",
      "source": [
        "Ans. Advantages of Generators\n",
        "\n",
        "Save memory because they don’t store all values at once.\n",
        "\n",
        "Useful for big data or infinite sequences.\n",
        "\n",
        "Example:"
      ],
      "metadata": {
        "id": "3dz6l-y3PDEo"
      }
    },
    {
      "cell_type": "code",
      "source": [
        "# generator doesn't create full list in memory\n",
        "gen = (x*x for x in range(5))\n",
        "for val in gen:\n",
        "    print(val)\n"
      ],
      "metadata": {
        "colab": {
          "base_uri": "https://localhost:8080/"
        },
        "id": "auQDIBhEPIMb",
        "outputId": "22fd34d0-bd1c-4e88-d84c-ca5f9670ae2b"
      },
      "execution_count": 7,
      "outputs": [
        {
          "output_type": "stream",
          "name": "stdout",
          "text": [
            "0\n",
            "1\n",
            "4\n",
            "9\n",
            "16\n"
          ]
        }
      ]
    },
    {
      "cell_type": "markdown",
      "source": [
        "8. . What is a lambda function in Python and when is it typically used?\n",
        "\n"
      ],
      "metadata": {
        "id": "ML5wvg7sPN2K"
      }
    },
    {
      "cell_type": "markdown",
      "source": [
        "Ans. A small one-line function without a name.\n",
        "\n",
        "Used when we need a function for short time.\n",
        "\n",
        "Example:"
      ],
      "metadata": {
        "id": "MJaftxDUPUrd"
      }
    },
    {
      "cell_type": "code",
      "source": [
        "square = lambda x: x*x\n",
        "print(square(5))  # 25\n"
      ],
      "metadata": {
        "colab": {
          "base_uri": "https://localhost:8080/"
        },
        "id": "NbctyyVAPYUc",
        "outputId": "b16a32b0-572f-4529-961e-cc8c7d3f5e99"
      },
      "execution_count": 8,
      "outputs": [
        {
          "output_type": "stream",
          "name": "stdout",
          "text": [
            "25\n"
          ]
        }
      ]
    },
    {
      "cell_type": "markdown",
      "source": [
        "9. Explain the purpose and usage of the `map()` function in Python."
      ],
      "metadata": {
        "id": "7BQU6QIYPbgi"
      }
    },
    {
      "cell_type": "markdown",
      "source": [
        "Ans. Purpose of map() function\n",
        "\n",
        "It applies a function to every element of an iterable.\n",
        "\n",
        "Example:"
      ],
      "metadata": {
        "id": "T7PBWIvuPfOn"
      }
    },
    {
      "cell_type": "code",
      "source": [
        "nums = [1, 2, 3]\n",
        "squares = map(lambda x: x*x, nums)\n",
        "print(list(squares))  # [1, 4, 9]\n"
      ],
      "metadata": {
        "colab": {
          "base_uri": "https://localhost:8080/"
        },
        "id": "5BhrbizLPkyL",
        "outputId": "ec9e0ef1-9728-4d0b-ad4b-35bc52725360"
      },
      "execution_count": 9,
      "outputs": [
        {
          "output_type": "stream",
          "name": "stdout",
          "text": [
            "[1, 4, 9]\n"
          ]
        }
      ]
    },
    {
      "cell_type": "markdown",
      "source": [
        "10.  What is the difference between `map()`, `reduce()`, and `filter()` functions in Python?"
      ],
      "metadata": {
        "id": "if5YLUOFPmuA"
      }
    },
    {
      "cell_type": "markdown",
      "source": [
        "Ans. map(): Applies function to all items.\n",
        "\n",
        "filter(): Keeps only items that match condition.\n",
        "\n",
        "reduce(): Reduces all items to a single value (needs functools.reduce).\n",
        "\n",
        "Example:\n"
      ],
      "metadata": {
        "id": "jJVxF4szPrlF"
      }
    },
    {
      "cell_type": "code",
      "source": [
        "from functools import reduce\n",
        "\n",
        "nums = [1, 2, 3, 4]\n",
        "\n",
        "print(list(map(lambda x: x*x, nums)))      # [1, 4, 9, 16]\n",
        "print(list(filter(lambda x: x%2==0, nums)))# [2, 4]\n",
        "print(reduce(lambda x,y: x+y, nums))       # 10\n"
      ],
      "metadata": {
        "colab": {
          "base_uri": "https://localhost:8080/"
        },
        "id": "vXTrf4zZP1u8",
        "outputId": "50d5f595-09be-441d-eecc-3430ea6b21ce"
      },
      "execution_count": 10,
      "outputs": [
        {
          "output_type": "stream",
          "name": "stdout",
          "text": [
            "[1, 4, 9, 16]\n",
            "[2, 4]\n",
            "10\n"
          ]
        }
      ]
    },
    {
      "cell_type": "markdown",
      "source": [
        "11. . Using pen & Paper write the internal mechanism for sum operation using  reduce function on this given\n",
        "list:[47,11,42,13];"
      ],
      "metadata": {
        "id": "SmO95SkeVioE"
      }
    },
    {
      "cell_type": "code",
      "source": [
        "from google.colab import files\n",
        "\n",
        "\n",
        "uploaded = files.upload()\n"
      ],
      "metadata": {
        "colab": {
          "base_uri": "https://localhost:8080/",
          "height": 73
        },
        "id": "12SCh3jphzGq",
        "outputId": "da5f5c01-c5ff-49e8-8a08-028c9a138368"
      },
      "execution_count": 52,
      "outputs": [
        {
          "output_type": "display_data",
          "data": {
            "text/plain": [
              "<IPython.core.display.HTML object>"
            ],
            "text/html": [
              "\n",
              "     <input type=\"file\" id=\"files-e33a7c45-c4ad-4285-8a75-9c3a4ce9ae5e\" name=\"files[]\" multiple disabled\n",
              "        style=\"border:none\" />\n",
              "     <output id=\"result-e33a7c45-c4ad-4285-8a75-9c3a4ce9ae5e\">\n",
              "      Upload widget is only available when the cell has been executed in the\n",
              "      current browser session. Please rerun this cell to enable.\n",
              "      </output>\n",
              "      <script>// Copyright 2017 Google LLC\n",
              "//\n",
              "// Licensed under the Apache License, Version 2.0 (the \"License\");\n",
              "// you may not use this file except in compliance with the License.\n",
              "// You may obtain a copy of the License at\n",
              "//\n",
              "//      http://www.apache.org/licenses/LICENSE-2.0\n",
              "//\n",
              "// Unless required by applicable law or agreed to in writing, software\n",
              "// distributed under the License is distributed on an \"AS IS\" BASIS,\n",
              "// WITHOUT WARRANTIES OR CONDITIONS OF ANY KIND, either express or implied.\n",
              "// See the License for the specific language governing permissions and\n",
              "// limitations under the License.\n",
              "\n",
              "/**\n",
              " * @fileoverview Helpers for google.colab Python module.\n",
              " */\n",
              "(function(scope) {\n",
              "function span(text, styleAttributes = {}) {\n",
              "  const element = document.createElement('span');\n",
              "  element.textContent = text;\n",
              "  for (const key of Object.keys(styleAttributes)) {\n",
              "    element.style[key] = styleAttributes[key];\n",
              "  }\n",
              "  return element;\n",
              "}\n",
              "\n",
              "// Max number of bytes which will be uploaded at a time.\n",
              "const MAX_PAYLOAD_SIZE = 100 * 1024;\n",
              "\n",
              "function _uploadFiles(inputId, outputId) {\n",
              "  const steps = uploadFilesStep(inputId, outputId);\n",
              "  const outputElement = document.getElementById(outputId);\n",
              "  // Cache steps on the outputElement to make it available for the next call\n",
              "  // to uploadFilesContinue from Python.\n",
              "  outputElement.steps = steps;\n",
              "\n",
              "  return _uploadFilesContinue(outputId);\n",
              "}\n",
              "\n",
              "// This is roughly an async generator (not supported in the browser yet),\n",
              "// where there are multiple asynchronous steps and the Python side is going\n",
              "// to poll for completion of each step.\n",
              "// This uses a Promise to block the python side on completion of each step,\n",
              "// then passes the result of the previous step as the input to the next step.\n",
              "function _uploadFilesContinue(outputId) {\n",
              "  const outputElement = document.getElementById(outputId);\n",
              "  const steps = outputElement.steps;\n",
              "\n",
              "  const next = steps.next(outputElement.lastPromiseValue);\n",
              "  return Promise.resolve(next.value.promise).then((value) => {\n",
              "    // Cache the last promise value to make it available to the next\n",
              "    // step of the generator.\n",
              "    outputElement.lastPromiseValue = value;\n",
              "    return next.value.response;\n",
              "  });\n",
              "}\n",
              "\n",
              "/**\n",
              " * Generator function which is called between each async step of the upload\n",
              " * process.\n",
              " * @param {string} inputId Element ID of the input file picker element.\n",
              " * @param {string} outputId Element ID of the output display.\n",
              " * @return {!Iterable<!Object>} Iterable of next steps.\n",
              " */\n",
              "function* uploadFilesStep(inputId, outputId) {\n",
              "  const inputElement = document.getElementById(inputId);\n",
              "  inputElement.disabled = false;\n",
              "\n",
              "  const outputElement = document.getElementById(outputId);\n",
              "  outputElement.innerHTML = '';\n",
              "\n",
              "  const pickedPromise = new Promise((resolve) => {\n",
              "    inputElement.addEventListener('change', (e) => {\n",
              "      resolve(e.target.files);\n",
              "    });\n",
              "  });\n",
              "\n",
              "  const cancel = document.createElement('button');\n",
              "  inputElement.parentElement.appendChild(cancel);\n",
              "  cancel.textContent = 'Cancel upload';\n",
              "  const cancelPromise = new Promise((resolve) => {\n",
              "    cancel.onclick = () => {\n",
              "      resolve(null);\n",
              "    };\n",
              "  });\n",
              "\n",
              "  // Wait for the user to pick the files.\n",
              "  const files = yield {\n",
              "    promise: Promise.race([pickedPromise, cancelPromise]),\n",
              "    response: {\n",
              "      action: 'starting',\n",
              "    }\n",
              "  };\n",
              "\n",
              "  cancel.remove();\n",
              "\n",
              "  // Disable the input element since further picks are not allowed.\n",
              "  inputElement.disabled = true;\n",
              "\n",
              "  if (!files) {\n",
              "    return {\n",
              "      response: {\n",
              "        action: 'complete',\n",
              "      }\n",
              "    };\n",
              "  }\n",
              "\n",
              "  for (const file of files) {\n",
              "    const li = document.createElement('li');\n",
              "    li.append(span(file.name, {fontWeight: 'bold'}));\n",
              "    li.append(span(\n",
              "        `(${file.type || 'n/a'}) - ${file.size} bytes, ` +\n",
              "        `last modified: ${\n",
              "            file.lastModifiedDate ? file.lastModifiedDate.toLocaleDateString() :\n",
              "                                    'n/a'} - `));\n",
              "    const percent = span('0% done');\n",
              "    li.appendChild(percent);\n",
              "\n",
              "    outputElement.appendChild(li);\n",
              "\n",
              "    const fileDataPromise = new Promise((resolve) => {\n",
              "      const reader = new FileReader();\n",
              "      reader.onload = (e) => {\n",
              "        resolve(e.target.result);\n",
              "      };\n",
              "      reader.readAsArrayBuffer(file);\n",
              "    });\n",
              "    // Wait for the data to be ready.\n",
              "    let fileData = yield {\n",
              "      promise: fileDataPromise,\n",
              "      response: {\n",
              "        action: 'continue',\n",
              "      }\n",
              "    };\n",
              "\n",
              "    // Use a chunked sending to avoid message size limits. See b/62115660.\n",
              "    let position = 0;\n",
              "    do {\n",
              "      const length = Math.min(fileData.byteLength - position, MAX_PAYLOAD_SIZE);\n",
              "      const chunk = new Uint8Array(fileData, position, length);\n",
              "      position += length;\n",
              "\n",
              "      const base64 = btoa(String.fromCharCode.apply(null, chunk));\n",
              "      yield {\n",
              "        response: {\n",
              "          action: 'append',\n",
              "          file: file.name,\n",
              "          data: base64,\n",
              "        },\n",
              "      };\n",
              "\n",
              "      let percentDone = fileData.byteLength === 0 ?\n",
              "          100 :\n",
              "          Math.round((position / fileData.byteLength) * 100);\n",
              "      percent.textContent = `${percentDone}% done`;\n",
              "\n",
              "    } while (position < fileData.byteLength);\n",
              "  }\n",
              "\n",
              "  // All done.\n",
              "  yield {\n",
              "    response: {\n",
              "      action: 'complete',\n",
              "    }\n",
              "  };\n",
              "}\n",
              "\n",
              "scope.google = scope.google || {};\n",
              "scope.google.colab = scope.google.colab || {};\n",
              "scope.google.colab._files = {\n",
              "  _uploadFiles,\n",
              "  _uploadFilesContinue,\n",
              "};\n",
              "})(self);\n",
              "</script> "
            ]
          },
          "metadata": {}
        },
        {
          "output_type": "stream",
          "name": "stdout",
          "text": [
            "Saving Image.jpeg to Image.jpeg\n"
          ]
        }
      ]
    },
    {
      "cell_type": "code",
      "source": [
        "from IPython.display import Image, display\n",
        "\n",
        "\n",
        "display(Image(filename='Image.jpeg'))\n"
      ],
      "metadata": {
        "colab": {
          "base_uri": "https://localhost:8080/",
          "height": 1000
        },
        "id": "6UBGt2H5iFp6",
        "outputId": "176ce070-7187-4eb6-ec28-d934a78cc09c"
      },
      "execution_count": 54,
      "outputs": [
        {
          "output_type": "display_data",
          "data": {
            "image/jpeg": "[encoded data removed]",
            "text/plain": [
              "<IPython.core.display.Image object>"
            ]
          },
          "metadata": {}
        }
      ]
    },
    {
      "cell_type": "markdown",
      "source": [
        "#Practical Questions:"
      ],
      "metadata": {
        "id": "87eGsIxPVsQU"
      }
    },
    {
      "cell_type": "markdown",
      "source": [
        "1.  Write a Python function that takes a list of numbers as input and returns the sum of all even numbers in\n",
        "the list."
      ],
      "metadata": {
        "id": "MRALiRPxVwuI"
      }
    },
    {
      "cell_type": "code",
      "source": [
        "def sum_even(numbers):\n",
        "    total = 0\n",
        "    for num in numbers:\n",
        "        if num % 2 == 0:\n",
        "            total += num\n",
        "    return total\n",
        "sum_even([1,2,3,4,5,6,7])"
      ],
      "metadata": {
        "colab": {
          "base_uri": "https://localhost:8080/"
        },
        "id": "QLOI8tKrXBoI",
        "outputId": "b522d410-3543-4177-d26e-73100d546cf3"
      },
      "execution_count": 26,
      "outputs": [
        {
          "output_type": "execute_result",
          "data": {
            "text/plain": [
              "12"
            ]
          },
          "metadata": {},
          "execution_count": 26
        }
      ]
    },
    {
      "cell_type": "markdown",
      "source": [
        "2. . Create a Python function that accepts a string and returns the reverse of that string."
      ],
      "metadata": {
        "id": "UyJ29gP-ZGRK"
      }
    },
    {
      "cell_type": "code",
      "source": [
        "def reverse_string(s):\n",
        "    return s[::-1]\n",
        "reverse_string(\"Rehma\")"
      ],
      "metadata": {
        "colab": {
          "base_uri": "https://localhost:8080/",
          "height": 36
        },
        "id": "HMGmFTC6ZK4Q",
        "outputId": "318797ab-21c6-4ccd-f1fd-a529eab319a9"
      },
      "execution_count": 27,
      "outputs": [
        {
          "output_type": "execute_result",
          "data": {
            "text/plain": [
              "'amheR'"
            ],
            "application/vnd.google.colaboratory.intrinsic+json": {
              "type": "string"
            }
          },
          "metadata": {},
          "execution_count": 27
        }
      ]
    },
    {
      "cell_type": "markdown",
      "source": [
        "3. . Implement a Python function that takes a list of integers and returns a new list containing the squares of\n",
        "each number."
      ],
      "metadata": {
        "id": "iwWGnRBvZZue"
      }
    },
    {
      "cell_type": "code",
      "source": [
        "def square_list(numbers):\n",
        "    return [x**2 for x in numbers]\n",
        "square_list([1,2,3,4,5])"
      ],
      "metadata": {
        "colab": {
          "base_uri": "https://localhost:8080/"
        },
        "id": "SrgonAZYZfDq",
        "outputId": "8d440b6c-047e-4953-ccb8-8b1a623062f0"
      },
      "execution_count": 28,
      "outputs": [
        {
          "output_type": "execute_result",
          "data": {
            "text/plain": [
              "[1, 4, 9, 16, 25]"
            ]
          },
          "metadata": {},
          "execution_count": 28
        }
      ]
    },
    {
      "cell_type": "markdown",
      "source": [
        "4.  Write a Python function that checks if a given number is prime or not from 1 to 200."
      ],
      "metadata": {
        "id": "sV-FpebyZsU3"
      }
    },
    {
      "cell_type": "code",
      "source": [
        "def is_prime(n):\n",
        "    if n < 2:\n",
        "        return False\n",
        "    for i in range(2, int(n**0.5)+1):\n",
        "        if n % i == 0:\n",
        "            return False\n",
        "    return True\n",
        "is_prime(7)"
      ],
      "metadata": {
        "colab": {
          "base_uri": "https://localhost:8080/"
        },
        "id": "2jaiqWOZZxUZ",
        "outputId": "81853f52-df24-40ee-ff99-8bb54a4c2bf3"
      },
      "execution_count": 32,
      "outputs": [
        {
          "output_type": "execute_result",
          "data": {
            "text/plain": [
              "True"
            ]
          },
          "metadata": {},
          "execution_count": 32
        }
      ]
    },
    {
      "cell_type": "markdown",
      "source": [
        "5. 5. Create an iterator class in Python that generates the Fibonacci sequence up to a specified number of\n",
        "terms."
      ],
      "metadata": {
        "id": "lUklerqJaS7a"
      }
    },
    {
      "cell_type": "code",
      "source": [
        "class Fibonacci:\n",
        "    def __init__(self, n_terms):\n",
        "        self.n_terms = n_terms\n",
        "        self.a, self.b = 0, 1\n",
        "        self.count = 0\n",
        "\n",
        "    def __iter__(self):\n",
        "        return self\n",
        "\n",
        "    def __next__(self):\n",
        "        if self.count >= self.n_terms:\n",
        "            raise StopIteration\n",
        "        if self.count == 0:\n",
        "            self.count += 1\n",
        "            return self.a\n",
        "        elif self.count == 1:\n",
        "            self.count += 1\n",
        "            return self.b\n",
        "        else:\n",
        "            self.a, self.b = self.b, self.a + self.b\n",
        "            self.count += 1\n",
        "            return self.b\n",
        "\n",
        "# Example\n",
        "for num in Fibonacci(10):\n",
        "    print(num)\n"
      ],
      "metadata": {
        "colab": {
          "base_uri": "https://localhost:8080/"
        },
        "id": "kDZSYwgIaX8h",
        "outputId": "46459e69-16aa-430b-b479-bcf700c9ae04"
      },
      "execution_count": 33,
      "outputs": [
        {
          "output_type": "stream",
          "name": "stdout",
          "text": [
            "0\n",
            "1\n",
            "1\n",
            "2\n",
            "3\n",
            "5\n",
            "8\n",
            "13\n",
            "21\n",
            "34\n"
          ]
        }
      ]
    },
    {
      "cell_type": "markdown",
      "source": [
        "6.  Write a generator function in Python that yields the powers of 2 up to a given exponent."
      ],
      "metadata": {
        "id": "4uOOhlD4azEM"
      }
    },
    {
      "cell_type": "code",
      "source": [
        "def powers_of_2(exponent):\n",
        "    for i in range(exponent + 1):\n",
        "        yield 2**i\n",
        "powers_of_2(5)\n"
      ],
      "metadata": {
        "colab": {
          "base_uri": "https://localhost:8080/"
        },
        "id": "NENPe0Q-a4CL",
        "outputId": "6a88ad17-2bd8-49de-aab3-be0f97c2ceb9"
      },
      "execution_count": 36,
      "outputs": [
        {
          "output_type": "execute_result",
          "data": {
            "text/plain": [
              "<generator object powers_of_2 at 0x799e6a684860>"
            ]
          },
          "metadata": {},
          "execution_count": 36
        }
      ]
    },
    {
      "cell_type": "code",
      "source": [
        "power = powers_of_2(5)\n",
        "power\n",
        "next(power)"
      ],
      "metadata": {
        "colab": {
          "base_uri": "https://localhost:8080/"
        },
        "id": "lV1y8qcEbocm",
        "outputId": "b73802d1-aa14-4941-9818-a0dee078c26d"
      },
      "execution_count": 38,
      "outputs": [
        {
          "output_type": "execute_result",
          "data": {
            "text/plain": [
              "1"
            ]
          },
          "metadata": {},
          "execution_count": 38
        }
      ]
    },
    {
      "cell_type": "code",
      "source": [
        "next(power)"
      ],
      "metadata": {
        "colab": {
          "base_uri": "https://localhost:8080/"
        },
        "id": "RB6VVLDLbx3-",
        "outputId": "b165f0f8-2907-4dc7-e4bf-fea547ffa899"
      },
      "execution_count": 39,
      "outputs": [
        {
          "output_type": "execute_result",
          "data": {
            "text/plain": [
              "2"
            ]
          },
          "metadata": {},
          "execution_count": 39
        }
      ]
    },
    {
      "cell_type": "code",
      "source": [
        "next(power)"
      ],
      "metadata": {
        "colab": {
          "base_uri": "https://localhost:8080/"
        },
        "id": "_hsrn-Lyb3HY",
        "outputId": "e2de31a5-9493-48e8-fe2b-ccd18f198c4c"
      },
      "execution_count": 40,
      "outputs": [
        {
          "output_type": "execute_result",
          "data": {
            "text/plain": [
              "4"
            ]
          },
          "metadata": {},
          "execution_count": 40
        }
      ]
    },
    {
      "cell_type": "code",
      "source": [
        "next(power)"
      ],
      "metadata": {
        "colab": {
          "base_uri": "https://localhost:8080/"
        },
        "id": "tUEIy-k5b6ly",
        "outputId": "d4ad039d-dea3-4961-a13c-0132439c5177"
      },
      "execution_count": 41,
      "outputs": [
        {
          "output_type": "execute_result",
          "data": {
            "text/plain": [
              "8"
            ]
          },
          "metadata": {},
          "execution_count": 41
        }
      ]
    },
    {
      "cell_type": "markdown",
      "source": [
        "7.  Implement a generator function that reads a file line by line and yields each line as a string."
      ],
      "metadata": {
        "id": "R4XqlPpicC3Q"
      }
    },
    {
      "cell_type": "code",
      "source": [
        "\n",
        "with open('example.txt', 'w') as f:\n",
        "    f.write(\"Hello World\\n\")\n",
        "    f.write(\"Python is Fun\\n\")\n",
        "    f.write(\"Generators are Cool\\n\")\n",
        "\n",
        "#  Define the generator function\n",
        "def read_file_lines(filename):\n",
        "    with open(filename, 'r') as file:\n",
        "        for line in file:\n",
        "            yield line.strip()\n",
        "\n",
        "#  Use the generator to read lines\n",
        "for line in read_file_lines('example.txt'):\n",
        "    print(line)\n"
      ],
      "metadata": {
        "colab": {
          "base_uri": "https://localhost:8080/"
        },
        "id": "zAwfRQvecHbq",
        "outputId": "b4296ca3-1dfd-48bb-cb8a-eaedb47602f2"
      },
      "execution_count": 48,
      "outputs": [
        {
          "output_type": "stream",
          "name": "stdout",
          "text": [
            "Hello World\n",
            "Python is Fun\n",
            "Generators are Cool\n"
          ]
        }
      ]
    },
    {
      "cell_type": "markdown",
      "source": [
        "8.  Use a lambda function in Python to sort a list of tuples based on the second element of each tuple."
      ],
      "metadata": {
        "id": "4ghmUxoccZeF"
      }
    },
    {
      "cell_type": "code",
      "source": [
        "tuples = [(1, 3), (2, 1), (3, 2)]\n",
        "sorted_tuples = sorted(tuples, key=lambda x: x[1])\n",
        "print(sorted_tuples)  # Output: [(2, 1), (3, 2), (1, 3)]\n"
      ],
      "metadata": {
        "colab": {
          "base_uri": "https://localhost:8080/"
        },
        "id": "YQbA-M70cdzL",
        "outputId": "39855d15-0838-42d5-ead1-90bf85f4f44f"
      },
      "execution_count": 44,
      "outputs": [
        {
          "output_type": "stream",
          "name": "stdout",
          "text": [
            "[(2, 1), (3, 2), (1, 3)]\n"
          ]
        }
      ]
    },
    {
      "cell_type": "markdown",
      "source": [
        "9.  Write a Python program that uses `map()` to convert a list of temperatures from Celsius to Fahrenheit."
      ],
      "metadata": {
        "id": "VBaJ2hAVcnSN"
      }
    },
    {
      "cell_type": "code",
      "source": [
        "def c_to_f(c):\n",
        "    return (c * 9/5) + 32\n",
        "\n",
        "temps_c = [0, 20, 37, 100]\n",
        "temps_f = list(map(c_to_f, temps_c))\n",
        "print(temps_f)  # Output: [32.0, 68.0, 98.6, 212.0]\n"
      ],
      "metadata": {
        "colab": {
          "base_uri": "https://localhost:8080/"
        },
        "id": "t4nacvDrcscs",
        "outputId": "94666731-294f-4824-d981-b70d370a5f86"
      },
      "execution_count": 45,
      "outputs": [
        {
          "output_type": "stream",
          "name": "stdout",
          "text": [
            "[32.0, 68.0, 98.6, 212.0]\n"
          ]
        }
      ]
    },
    {
      "cell_type": "markdown",
      "source": [
        "10.  Create a Python program that uses `filter()` to remove all the vowels from a given string."
      ],
      "metadata": {
        "id": "5w8BU9ulcvdp"
      }
    },
    {
      "cell_type": "code",
      "source": [
        "def remove_vowels(s):\n",
        "    vowels = 'aeiouAEIOU'\n",
        "    return ''.join(filter(lambda x: x not in vowels, s))\n",
        "\n",
        "# Example\n",
        "text = \"Hello World\"\n",
        "print(remove_vowels(text))  # Output: \"Hll Wrld\"\n"
      ],
      "metadata": {
        "colab": {
          "base_uri": "https://localhost:8080/"
        },
        "id": "b3vDU2M7cy3n",
        "outputId": "e3fd4c98-456b-44a2-f664-f185a5c949fa"
      },
      "execution_count": 46,
      "outputs": [
        {
          "output_type": "stream",
          "name": "stdout",
          "text": [
            "Hll Wrld\n"
          ]
        }
      ]
    },
    {
      "cell_type": "markdown",
      "source": [
        "11.  Imagine an accounting routine used in a book shop. It works on a list with sublists, which look like this:   \n",
        "\n",
        "\n"
      ],
      "metadata": {
        "id": "l1KGyExpfEee"
      }
    },
    {
      "cell_type": "code",
      "source": [
        "# Step 1: Define the data first\n",
        "orders = [\n",
        "    [34587, \"Learning Python, Mark Lutz\", 4, 40.95],\n",
        "    [98762, \"Programming Python, Mark Lutz\", 5, 56.80],\n",
        "    [77226, \"Head First Python, Paul Barry\", 3, 32.95],\n",
        "    [88112, \"Einführung in Python3, Bernd Klein\", 3, 24.99]\n",
        "]\n",
        "\n",
        "# Step 2: Use map + lambda to calculate\n",
        "result = list(map(\n",
        "    lambda order: (\n",
        "        order[0],                                     # Order Number\n",
        "        order[2] * order[3] if order[2] * order[3] >= 100 else order[2] * order[3] + 10\n",
        "    ),\n",
        "    orders\n",
        "))\n",
        "\n",
        "# Step 3: Print final result\n",
        "print(result)\n"
      ],
      "metadata": {
        "colab": {
          "base_uri": "https://localhost:8080/"
        },
        "id": "alms7rBVfZMh",
        "outputId": "070a9dd6-e210-439a-97e3-a44666d8c475"
      },
      "execution_count": 50,
      "outputs": [
        {
          "output_type": "stream",
          "name": "stdout",
          "text": [
            "[(34587, 163.8), (98762, 284.0), (77226, 108.85000000000001), (88112, 84.97)]\n"
          ]
        }
      ]
    }
  ]
}